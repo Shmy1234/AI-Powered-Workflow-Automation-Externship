{
  "nbformat": 4,
  "nbformat_minor": 0,
  "metadata": {
    "colab": {
      "provenance": []
    },
    "kernelspec": {
      "name": "python3",
      "display_name": "Python 3"
    },
    "language_info": {
      "name": "python"
    }
  },
  "cells": [
    {
      "cell_type": "code",
      "execution_count": 4,
      "metadata": {
        "id": "ciBm8ZrG6t1q"
      },
      "outputs": [],
      "source": [
        "import os\n",
        "import sys\n",
        "import google.generativeai as genai\n",
        "GOOGLE_API_KEY = \"INSERT API KEY\"\n",
        "os.environ[\"GOOGLE_API_KEY\"] = GOOGLE_API_KEY"
      ]
    },
    {
      "cell_type": "code",
      "source": [
        "def simple_chatbot():\n",
        "    import os\n",
        "    import google.generativeai as genai\n",
        "\n",
        "    api_key = os.environ.get(\"GOOGLE_API_KEY\")\n",
        "    if not api_key:\n",
        "        raise RuntimeError(\n",
        "            \"GOOGLE_API_KEY not set. Run: export GOOGLE_API_KEY='YOUR_KEY'\"\n",
        "        )\n",
        "\n",
        "    genai.configure(api_key=api_key)\n",
        "\n",
        "    model = genai.GenerativeModel(\n",
        "        model_name,\n",
        "        system_instruction=(\n",
        "            \"You are a concise, helpful assistant in a terminal. \"\n",
        "            \"Be clear and keep answers short unless asked for detail.\"\n",
        "        ),\n",
        "        generation_config={\n",
        "            \"temperature\": 0.7,\n",
        "            \"top_p\": 0.95,\n",
        "            \"max_output_tokens\": 1024,\n",
        "        },\n",
        "    )\n",
        "\n",
        "    chat = model.start_chat(history=[])\n",
        "\n",
        "    print(\"🐪 Simple Gemini Chatbot\")\n",
        "    print(\"Type 'exit', 'quit', or 'bye' to end the conversation\")\n",
        "    print(\"-\" * 50)\n",
        "\n",
        "    while True:\n",
        "        try:\n",
        "            user_input = input(\"\\nYou: \").strip()\n",
        "        except (KeyboardInterrupt, EOFError):\n",
        "            print(\"\\nChatbot: Goodbye! Have a great day!\")\n",
        "            break\n",
        "\n",
        "        if user_input.lower() in {\"exit\", \"quit\", \"bye\"}:\n",
        "            print(\"\\nChatbot: Goodbye! Have a great day!\")\n",
        "            break\n",
        "\n",
        "        try:\n",
        "            response = chat.send_message(user_input)\n",
        "            print(f\"\\nChatbot: {response.text}\")\n",
        "        except Exception as e:\n",
        "            print(f\"\\n[Gemini error] {e}\")"
      ],
      "metadata": {
        "id": "GfaIQpof8Exe"
      },
      "execution_count": 3,
      "outputs": []
    }
  ]
}